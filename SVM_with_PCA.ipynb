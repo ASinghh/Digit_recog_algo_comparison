{
 "cells": [
  {
   "cell_type": "code",
   "execution_count": 1,
   "metadata": {
    "collapsed": true
   },
   "outputs": [],
   "source": [
    "from numpy import genfromtxt\n",
    "train = genfromtxt('train.csv', delimiter=',')\n",
    "test = genfromtxt('test.csv', delimiter=',')\n",
    "from sklearn.model_selection import train_test_split\n",
    "from sklearn.model_selection import GridSearchCV\n",
    "from sklearn.datasets import fetch_lfw_people\n",
    "from sklearn.metrics import classification_report\n",
    "from sklearn.metrics import confusion_matrix\n",
    "from sklearn.decomposition import PCA\n"
   ]
  },
  {
   "cell_type": "code",
   "execution_count": 4,
   "metadata": {},
   "outputs": [
    {
     "name": "stdout",
     "output_type": "stream",
     "text": [
      "(60000, 785)\n",
      "(10000, 784)\n"
     ]
    }
   ],
   "source": [
    "##this is a preprocessed dataset, we just need to apply the model\n",
    "print(train.shape)\n",
    "print(test.shape)"
   ]
  },
  {
   "cell_type": "code",
   "execution_count": 9,
   "metadata": {},
   "outputs": [],
   "source": [
    "##Defining labels and predictors\n",
    "x_train = train[:50000,:-1]\n",
    "x_test = train[50000:,:-1]\n",
    "y_train = train[:50000,-1]\n",
    "y_test = train[50000:,-1]"
   ]
  },
  {
   "cell_type": "code",
   "execution_count": 10,
   "metadata": {
    "collapsed": true
   },
   "outputs": [],
   "source": [
    "##Normalizing the data\n",
    "x_train = x_train/255\n",
    "x_test = x_test/255"
   ]
  },
  {
   "cell_type": "code",
   "execution_count": 11,
   "metadata": {},
   "outputs": [
    {
     "data": {
      "text/plain": [
       "array([ 0.,  1.,  2.,  3.,  4.,  5.,  6.,  7.,  8.,  9.])"
      ]
     },
     "execution_count": 11,
     "metadata": {},
     "output_type": "execute_result"
    }
   ],
   "source": [
    "import numpy as np\n",
    "\n",
    "np.unique(y_test)"
   ]
  },
  {
   "cell_type": "code",
   "execution_count": 14,
   "metadata": {},
   "outputs": [
    {
     "name": "stdout",
     "output_type": "stream",
     "text": [
      "Extracting the top 50 eigenfaces from 50000 digits\n",
      "Extracting the top 55 eigenfaces from 50000 digits\n",
      "Extracting the top 60 eigenfaces from 50000 digits\n",
      "Extracting the top 65 eigenfaces from 50000 digits\n",
      "Extracting the top 70 eigenfaces from 50000 digits\n",
      "Extracting the top 75 eigenfaces from 50000 digits\n",
      "Extracting the top 80 eigenfaces from 50000 digits\n",
      "Extracting the top 85 eigenfaces from 50000 digits\n",
      "Extracting the top 90 eigenfaces from 50000 digits\n",
      "Extracting the top 95 eigenfaces from 50000 digits\n",
      "Extracting the top 100 eigenfaces from 50000 digits\n",
      "Extracting the top 105 eigenfaces from 50000 digits\n"
     ]
    }
   ],
   "source": [
    "###Applying PCA \n",
    "\n",
    "import logging\n",
    "import matplotlib.pyplot as plt\n",
    "\n",
    "value = []\n",
    "x =[]\n",
    "for i in range(50,110,5):\n",
    "    n_components = i\n",
    "    print(\"Extracting the top %d eigenfaces from %d digits\"\n",
    "      % (n_components, x_train.shape[0]))\n",
    "\n",
    "    pca = PCA(n_components=n_components, svd_solver='randomized',whiten=True).fit(x_train)\n",
    "\n",
    "    x_train_pca = pca.transform(x_train)\n",
    "    x_test_pca = pca.transform(x_test)\n",
    "    value.append(pca.noise_variance_)\n",
    "    x.append(i)"
   ]
  },
  {
   "cell_type": "code",
   "execution_count": 15,
   "metadata": {},
   "outputs": [
    {
     "data": {
      "text/plain": [
       "[<matplotlib.lines.Line2D at 0x1891d1ed240>]"
      ]
     },
     "execution_count": 15,
     "metadata": {},
     "output_type": "execute_result"
    },
    {
     "data": {
      "image/png": "[encoded data removed]",
      "text/plain": [
       "<matplotlib.figure.Figure at 0x1897c516240>"
      ]
     },
     "metadata": {},
     "output_type": "display_data"
    }
   ],
   "source": [
    "##ploting variance vs number of predictors\n",
    "pca = PCA(n_components=77, svd_solver='randomized',whiten=True).fit(x_train)\n",
    "\n",
    "x_train_pca = pca.transform(x_train)\n",
    "x_test_pca = pca.transform(x_test)\n",
    "\n",
    "%matplotlib inline\n",
    "plt.plot(x,value)"
   ]
  },
  {
   "cell_type": "code",
   "execution_count": 17,
   "metadata": {},
   "outputs": [
    {
     "name": "stdout",
     "output_type": "stream",
     "text": [
      "Best estimator found by grid search:\n",
      "SVC(C=1000.0, cache_size=200, class_weight='balanced', coef0=0.0,\n",
      "  decision_function_shape=None, degree=3, gamma=0.01, kernel='rbf',\n",
      "  max_iter=-1, probability=False, random_state=None, shrinking=True,\n",
      "  tol=0.001, verbose=False)\n"
     ]
    }
   ],
   "source": [
    "##grid search for best parameters on the 1st 10000 rows( to reduce computational expense).\n",
    "\n",
    "from sklearn.svm import SVC\n",
    "\n",
    "param_grid = {'C': [1e3, 5e3, 1e4, 5e4, 1e5],\n",
    "              'gamma': [0.0001, 0.0005, 0.001, 0.005, 0.01, 0.1], }\n",
    "param_grid = {'C': [1e3, 5e3, 1e4, 5e4, 1e5],\n",
    "              'gamma': [0.0001, 0.0005, 0.001, 0.005, 0.01, 0.1], }\n",
    "clf = GridSearchCV(SVC(kernel='rbf', class_weight='balanced'), param_grid)\n",
    "clf = clf.fit(x_train_pca[:10000,], y_train[:10000,])\n",
    "print(\"Best estimator found by grid search:\")\n",
    "print(clf.best_estimator_)"
   ]
  },
  {
   "cell_type": "code",
   "execution_count": 19,
   "metadata": {},
   "outputs": [
    {
     "name": "stdout",
     "output_type": "stream",
     "text": [
      "             precision    recall  f1-score   support\n",
      "\n",
      "        0.0       0.98      1.00      0.99      1024\n",
      "        1.0       0.99      0.99      0.99      1110\n",
      "        2.0       0.97      0.98      0.98       989\n",
      "        3.0       0.98      0.98      0.98      1013\n",
      "        4.0       0.98      0.98      0.98       989\n",
      "        5.0       0.99      0.98      0.98       904\n",
      "        6.0       0.99      0.99      0.99       986\n",
      "        7.0       0.97      0.98      0.97      1030\n",
      "        8.0       0.98      0.97      0.98       971\n",
      "        9.0       0.98      0.97      0.97       984\n",
      "\n",
      "avg / total       0.98      0.98      0.98     10000\n",
      "\n",
      "[[1019    0    3    0    0    0    0    1    0    1]\n",
      " [   1 1098    2    2    1    0    0    5    1    0]\n",
      " [   4    1  969    3    1    2    0    8    1    0]\n",
      " [   1    1    6  989    0    5    0    6    3    2]\n",
      " [   1    2    3    0  973    0    1    1    2    6]\n",
      " [   3    0    2    5    1  883    3    0    5    2]\n",
      " [   1    0    1    0    1    2  981    0    0    0]\n",
      " [   2    1    8    1    3    0    0 1005    3    7]\n",
      " [   6    5    4    6    0    3    2    1  943    1]\n",
      " [   4    2    0    3   12    1    0    8    1  953]]\n"
     ]
    }
   ],
   "source": [
    "###Final model is build on the best parameters\n",
    "from sklearn.svm import SVC\n",
    "clf = SVC(kernel='rbf', class_weight='balanced',C=1000, gamma = 0.01)\n",
    "clf = clf.fit(x_train_pca, y_train)\n",
    "y_pred = clf.predict(x_test_pca)\n",
    "\n",
    "print(classification_report(y_test, y_pred))\n",
    "print(confusion_matrix(y_test, y_pred))"
   ]
  },
  {
   "cell_type": "code",
   "execution_count": 21,
   "metadata": {},
   "outputs": [
    {
     "name": "stdout",
     "output_type": "stream",
     "text": [
      "HELLO WORLD, the accuracy is 98%\n"
     ]
    }
   ],
   "source": [
    "print(\"HELLO WORLD, the accuracy is 98%\")"
   ]
  },
  {
   "cell_type": "code",
   "execution_count": null,
   "metadata": {
    "collapsed": true
   },
   "outputs": [],
   "source": []
  }
 ],
 "metadata": {
  "kernelspec": {
   "display_name": "Python 3",
   "language": "python",
   "name": "python3"
  },
  "language_info": {
   "codemirror_mode": {
    "name": "ipython",
    "version": 3
   },
   "file_extension": ".py",
   "mimetype": "text/x-python",
   "name": "python",
   "nbconvert_exporter": "python",
   "pygments_lexer": "ipython3",
   "version": "3.6.1"
  }
 },
 "nbformat": 4,
 "nbformat_minor": 2
}
